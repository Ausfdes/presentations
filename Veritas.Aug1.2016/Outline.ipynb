{
 "cells": [
  {
   "cell_type": "markdown",
   "metadata": {},
   "source": [
    "# Outline"
   ]
  },
  {
   "cell_type": "markdown",
   "metadata": {},
   "source": [
    "Some modules that we will cover before launching into Logistic Regression heads on. \n",
    "\n",
    "Modules:\n",
    "- Visualization\n",
    "    - Using matplotlib\n",
    "    - Using seaborn\n",
    "- Randomization\n",
    "    - Using numpy.random\n",
    "- Panda dataframes\n",
    "\n",
    "Quick test:\n",
    "- We want to generate n (say 100) points in 2D randomly in a bounding box.\n",
    "- We want to generate n points in 2D colored in _one of two colors_. \n",
    "\n",
    "Let's tackle the first of the above tasks.\n"
   ]
  },
  {
   "cell_type": "markdown",
   "metadata": {},
   "source": [
    "## Randomization\n",
    "\n",
    "For this, we will assume that "
   ]
  },
  {
   "cell_type": "code",
   "execution_count": 2,
   "metadata": {
    "collapsed": false
   },
   "outputs": [
    {
     "name": "stdout",
     "output_type": "stream",
     "text": [
      "[[ 0.05368723  0.2072955   0.59916297]\n",
      " [ 0.44131501  0.30383213  0.655023  ]]\n"
     ]
    }
   ],
   "source": [
    "import numpy as np\n",
    "from numpy import random\n",
    "a = random.rand(2, 3)\n",
    "print a"
   ]
  },
  {
   "cell_type": "code",
   "execution_count": 5,
   "metadata": {
    "collapsed": false
   },
   "outputs": [
    {
     "name": "stdout",
     "output_type": "stream",
     "text": [
      "(2, 3)\n"
     ]
    }
   ],
   "source": [
    "print a.shape"
   ]
  },
  {
   "cell_type": "code",
   "execution_count": 8,
   "metadata": {
    "collapsed": false
   },
   "outputs": [
    {
     "data": {
      "text/plain": [
       "array([ 0.05368723,  0.2072955 ,  0.59916297])"
      ]
     },
     "execution_count": 8,
     "metadata": {},
     "output_type": "execute_result"
    }
   ],
   "source": [
    "a[0]"
   ]
  },
  {
   "cell_type": "code",
   "execution_count": 9,
   "metadata": {
    "collapsed": false
   },
   "outputs": [
    {
     "data": {
      "text/plain": [
       "array([ 0.44131501,  0.30383213,  0.655023  ])"
      ]
     },
     "execution_count": 9,
     "metadata": {},
     "output_type": "execute_result"
    }
   ],
   "source": [
    "a[1]"
   ]
  },
  {
   "cell_type": "code",
   "execution_count": 11,
   "metadata": {
    "collapsed": false
   },
   "outputs": [
    {
     "name": "stdout",
     "output_type": "stream",
     "text": [
      "[[-2.06540484  1.61599934  0.07844901]\n",
      " [ 0.59047839  1.01626035 -0.57564662]]\n"
     ]
    }
   ],
   "source": [
    "b = random.randn(2, 3)\n",
    "print b"
   ]
  },
  {
   "cell_type": "code",
   "execution_count": 17,
   "metadata": {
    "collapsed": true
   },
   "outputs": [],
   "source": [
    "a = [1, 2, 3]"
   ]
  },
  {
   "cell_type": "code",
   "execution_count": 18,
   "metadata": {
    "collapsed": false
   },
   "outputs": [
    {
     "name": "stdout",
     "output_type": "stream",
     "text": [
      "<type 'list'> [1, 2, 3]\n"
     ]
    }
   ],
   "source": [
    "print type(a), a"
   ]
  },
  {
   "cell_type": "code",
   "execution_count": 19,
   "metadata": {
    "collapsed": true
   },
   "outputs": [],
   "source": [
    "a = random.permutation(a)"
   ]
  },
  {
   "cell_type": "code",
   "execution_count": 20,
   "metadata": {
    "collapsed": false
   },
   "outputs": [
    {
     "name": "stdout",
     "output_type": "stream",
     "text": [
      "<type 'numpy.ndarray'> [2 3 1]\n"
     ]
    }
   ],
   "source": [
    "print type(a), a"
   ]
  },
  {
   "cell_type": "code",
   "execution_count": 21,
   "metadata": {
    "collapsed": true
   },
   "outputs": [],
   "source": [
    "coordstest = np.vstack([np.random.uniform(150, 220, 20), \n",
    "                        np.random.uniform(150, 220, 20)]).T"
   ]
  },
  {
   "cell_type": "code",
   "execution_count": 22,
   "metadata": {
    "collapsed": false
   },
   "outputs": [
    {
     "data": {
      "text/plain": [
       "array([[ 156.80526847,  161.36309176],\n",
       "       [ 164.65630779,  156.99145135],\n",
       "       [ 154.20371385,  206.35616125],\n",
       "       [ 214.98969127,  184.64623257],\n",
       "       [ 171.42410791,  194.91030759],\n",
       "       [ 167.473798  ,  206.59652315],\n",
       "       [ 170.60090406,  196.66143154],\n",
       "       [ 183.46711541,  199.04226379],\n",
       "       [ 163.56479935,  168.76322272],\n",
       "       [ 206.06266525,  183.28440297],\n",
       "       [ 195.78663533,  179.27063703],\n",
       "       [ 198.0793477 ,  153.12319686],\n",
       "       [ 175.35553388,  194.09387279],\n",
       "       [ 193.16150146,  152.02080009],\n",
       "       [ 202.15523944,  181.72668476],\n",
       "       [ 201.65740448,  197.48096305],\n",
       "       [ 207.54627164,  188.46456492],\n",
       "       [ 178.71446904,  197.32295554],\n",
       "       [ 171.77196431,  175.08441385],\n",
       "       [ 160.13315685,  202.87799643]])"
      ]
     },
     "execution_count": 22,
     "metadata": {},
     "output_type": "execute_result"
    }
   ],
   "source": [
    "coordstest"
   ]
  },
  {
   "cell_type": "code",
   "execution_count": 26,
   "metadata": {
    "collapsed": false
   },
   "outputs": [],
   "source": [
    "import pandas as pd\n",
    "individuals = (np.arange(0,200).reshape(-1,1)*np.ones(10).reshape(1,-1)).flatten()\n",
    "individuals = pd.Series(individuals)"
   ]
  },
  {
   "cell_type": "code",
   "execution_count": 27,
   "metadata": {
    "collapsed": true
   },
   "outputs": [],
   "source": [
    "corr = 0.95 \n",
    "means = [200, 180]\n",
    "stds = [10, 10]\n",
    "covs = [[stds[0]**2, stds[0]*stds[1]*corr],[stds[0]*stds[1]*corr, stds[1]**2]]"
   ]
  },
  {
   "cell_type": "code",
   "execution_count": 28,
   "metadata": {
    "collapsed": true
   },
   "outputs": [],
   "source": [
    "coords = np.vstack([np.random.multivariate_normal(coordstest[i,:], covs, 200) \n",
    "                         for i in range(10)])"
   ]
  },
  {
   "cell_type": "code",
   "execution_count": 30,
   "metadata": {
    "collapsed": false
   },
   "outputs": [],
   "source": [
    "import matplotlib.pyplot as plt"
   ]
  },
  {
   "cell_type": "code",
   "execution_count": null,
   "metadata": {
    "collapsed": false
   },
   "outputs": [],
   "source": [
    "plt.scatter(allCoords['x'], allCoords['y'], c = individuals, \n",
    "      s = 40, cmap = 'hot')"
   ]
  },
  {
   "cell_type": "code",
   "execution_count": null,
   "metadata": {
    "collapsed": true
   },
   "outputs": [],
   "source": []
  },
  {
   "cell_type": "code",
   "execution_count": null,
   "metadata": {
    "collapsed": true
   },
   "outputs": [],
   "source": []
  }
 ],
 "metadata": {
  "kernelspec": {
   "display_name": "Python 2",
   "language": "python",
   "name": "python2"
  },
  "language_info": {
   "codemirror_mode": {
    "name": "ipython",
    "version": 2
   },
   "file_extension": ".py",
   "mimetype": "text/x-python",
   "name": "python",
   "nbconvert_exporter": "python",
   "pygments_lexer": "ipython2",
   "version": "2.7.12"
  }
 },
 "nbformat": 4,
 "nbformat_minor": 0
}
