{
 "cells": [
  {
   "cell_type": "markdown",
   "metadata": {},
   "source": [
    "# Day 1: Logistic Regression\n",
    "We will apply logistic regression to binary classification problems. We will first jump in quickly to use sklearn (scikit-learn) to build a logistic regression model on a toy dataset. After this, we will work with a few datasets, some randomly generated (i.e. artificial) and some real-life data."
   ]
  },
  {
   "cell_type": "markdown",
   "metadata": {},
   "source": [
    "## Round 0: Jumping in.\n",
    "\n",
    "In this mock example, we will show how trivial it is to get started with scikit-learn to perform logistic regression on a toy dataset. \n",
    "\n",
    "First, some imports."
   ]
  },
  {
   "cell_type": "code",
   "execution_count": 109,
   "metadata": {
    "collapsed": true
   },
   "outputs": [],
   "source": [
    "%matplotlib inline\n",
    "import matplotlib.pyplot as plt\n",
    "\n",
    "import numpy as np\n",
    "from scipy import stats\n",
    "from sklearn.linear_model import LogisticRegression\n",
    "from sklearn.cross_validation import train_test_split\n",
    "from sklearn import metrics\n",
    "from sklearn.cross_validation import cross_val_score\n",
    "\n",
    "import pandas as pd\n",
    "from patsy import dmatrices\n",
    "\n",
    "import statsmodels.api as sm\n",
    "from statsmodels.formula.api import logit, probit, poisson, ols"
   ]
  },
  {
   "cell_type": "code",
   "execution_count": 110,
   "metadata": {
    "collapsed": true
   },
   "outputs": [],
   "source": [
    "from __future__ import print_function"
   ]
  },
  {
   "cell_type": "markdown",
   "metadata": {},
   "source": [
    "The __future__ module is a real Python module. You will often see constructs from __future__ import division. What do you think this line does? \n",
    "\n",
    "In the above we imported a whole bunch of stuff, some of which we will not need to use right now. First, a very small hand-crafted example to get the bearings."
   ]
  },
  {
   "cell_type": "code",
   "execution_count": 111,
   "metadata": {
    "collapsed": false
   },
   "outputs": [
    {
     "data": {
      "text/plain": [
       "0.75"
      ]
     },
     "execution_count": 111,
     "metadata": {},
     "output_type": "execute_result"
    }
   ],
   "source": [
    "X = [(1, 2), (2, 3), (1, 3), (4, 5)]\n",
    "y = [1, 0, 1, 1]\n",
    "\n",
    "model = LogisticRegression()\n",
    "model = model.fit(X, y)\n",
    "model.score(X, y)"
   ]
  },
  {
   "cell_type": "markdown",
   "metadata": {},
   "source": [
    "...and, we are up and running! We have trained our first logistic regression model! \n",
    "\n",
    "Here, X is the list of feature vectors, one for each training example. Also, y is the list of target variables, again, one for each training example. Note, that there are 4 training examples here.\n",
    "\n",
    "The __score__ here is the \"accuracy\". Accuracy is one of many metrics (others are precision, recall, F1-score, etc.). Metrics help us understand how good (or bad) a model is performing. \n",
    "\n",
    "In this specific case, the accuracy is 3/4. What do you think the model is doing?\n",
    "\n",
    "Let's play with the target variables some more: let's make all the target variables 1.\n"
   ]
  },
  {
   "cell_type": "code",
   "execution_count": 112,
   "metadata": {
    "collapsed": false
   },
   "outputs": [
    {
     "ename": "ValueError",
     "evalue": "This solver needs samples of at least 2 classes in the data, but the data contains only one class: 1",
     "output_type": "error",
     "traceback": [
      "\u001b[0;31m---------------------------------------------------------------------------\u001b[0m",
      "\u001b[0;31mValueError\u001b[0m                                Traceback (most recent call last)",
      "\u001b[0;32m<ipython-input-112-824c8b52c9ca>\u001b[0m in \u001b[0;36m<module>\u001b[0;34m()\u001b[0m\n\u001b[1;32m      3\u001b[0m \u001b[0;34m\u001b[0m\u001b[0m\n\u001b[1;32m      4\u001b[0m \u001b[0mmodel\u001b[0m \u001b[0;34m=\u001b[0m \u001b[0mLogisticRegression\u001b[0m\u001b[0;34m(\u001b[0m\u001b[0;34m)\u001b[0m\u001b[0;34m\u001b[0m\u001b[0m\n\u001b[0;32m----> 5\u001b[0;31m \u001b[0mmodel\u001b[0m \u001b[0;34m=\u001b[0m \u001b[0mmodel\u001b[0m\u001b[0;34m.\u001b[0m\u001b[0mfit\u001b[0m\u001b[0;34m(\u001b[0m\u001b[0mX\u001b[0m\u001b[0;34m,\u001b[0m \u001b[0my\u001b[0m\u001b[0;34m)\u001b[0m\u001b[0;34m\u001b[0m\u001b[0m\n\u001b[0m\u001b[1;32m      6\u001b[0m \u001b[0mmodel\u001b[0m\u001b[0;34m.\u001b[0m\u001b[0mscore\u001b[0m\u001b[0;34m(\u001b[0m\u001b[0mX\u001b[0m\u001b[0;34m,\u001b[0m \u001b[0my\u001b[0m\u001b[0;34m)\u001b[0m\u001b[0;34m\u001b[0m\u001b[0m\n",
      "\u001b[0;32m/Users/sroy/anaconda/lib/python2.7/site-packages/sklearn/linear_model/logistic.pyc\u001b[0m in \u001b[0;36mfit\u001b[0;34m(self, X, y, sample_weight)\u001b[0m\n\u001b[1;32m   1152\u001b[0m                 \u001b[0mX\u001b[0m\u001b[0;34m,\u001b[0m \u001b[0my\u001b[0m\u001b[0;34m,\u001b[0m \u001b[0mself\u001b[0m\u001b[0;34m.\u001b[0m\u001b[0mC\u001b[0m\u001b[0;34m,\u001b[0m \u001b[0mself\u001b[0m\u001b[0;34m.\u001b[0m\u001b[0mfit_intercept\u001b[0m\u001b[0;34m,\u001b[0m \u001b[0mself\u001b[0m\u001b[0;34m.\u001b[0m\u001b[0mintercept_scaling\u001b[0m\u001b[0;34m,\u001b[0m\u001b[0;34m\u001b[0m\u001b[0m\n\u001b[1;32m   1153\u001b[0m                 \u001b[0mself\u001b[0m\u001b[0;34m.\u001b[0m\u001b[0mclass_weight\u001b[0m\u001b[0;34m,\u001b[0m \u001b[0mself\u001b[0m\u001b[0;34m.\u001b[0m\u001b[0mpenalty\u001b[0m\u001b[0;34m,\u001b[0m \u001b[0mself\u001b[0m\u001b[0;34m.\u001b[0m\u001b[0mdual\u001b[0m\u001b[0;34m,\u001b[0m \u001b[0mself\u001b[0m\u001b[0;34m.\u001b[0m\u001b[0mverbose\u001b[0m\u001b[0;34m,\u001b[0m\u001b[0;34m\u001b[0m\u001b[0m\n\u001b[0;32m-> 1154\u001b[0;31m                 self.max_iter, self.tol, self.random_state)\n\u001b[0m\u001b[1;32m   1155\u001b[0m             \u001b[0mself\u001b[0m\u001b[0;34m.\u001b[0m\u001b[0mn_iter_\u001b[0m \u001b[0;34m=\u001b[0m \u001b[0mnp\u001b[0m\u001b[0;34m.\u001b[0m\u001b[0marray\u001b[0m\u001b[0;34m(\u001b[0m\u001b[0;34m[\u001b[0m\u001b[0mn_iter_\u001b[0m\u001b[0;34m]\u001b[0m\u001b[0;34m)\u001b[0m\u001b[0;34m\u001b[0m\u001b[0m\n\u001b[1;32m   1156\u001b[0m             \u001b[0;32mreturn\u001b[0m \u001b[0mself\u001b[0m\u001b[0;34m\u001b[0m\u001b[0m\n",
      "\u001b[0;32m/Users/sroy/anaconda/lib/python2.7/site-packages/sklearn/svm/base.pyc\u001b[0m in \u001b[0;36m_fit_liblinear\u001b[0;34m(X, y, C, fit_intercept, intercept_scaling, class_weight, penalty, dual, verbose, max_iter, tol, random_state, multi_class, loss, epsilon)\u001b[0m\n\u001b[1;32m    883\u001b[0m             raise ValueError(\"This solver needs samples of at least 2 classes\"\n\u001b[1;32m    884\u001b[0m                              \u001b[0;34m\" in the data, but the data contains only one\"\u001b[0m\u001b[0;34m\u001b[0m\u001b[0m\n\u001b[0;32m--> 885\u001b[0;31m                              \" class: %r\" % classes_[0])\n\u001b[0m\u001b[1;32m    886\u001b[0m \u001b[0;34m\u001b[0m\u001b[0m\n\u001b[1;32m    887\u001b[0m         \u001b[0mclass_weight_\u001b[0m \u001b[0;34m=\u001b[0m \u001b[0mcompute_class_weight\u001b[0m\u001b[0;34m(\u001b[0m\u001b[0mclass_weight\u001b[0m\u001b[0;34m,\u001b[0m \u001b[0mclasses_\u001b[0m\u001b[0;34m,\u001b[0m \u001b[0my\u001b[0m\u001b[0;34m)\u001b[0m\u001b[0;34m\u001b[0m\u001b[0m\n",
      "\u001b[0;31mValueError\u001b[0m: This solver needs samples of at least 2 classes in the data, but the data contains only one class: 1"
     ]
    }
   ],
   "source": [
    "X = [(1, 2), (2, 3), (1, 3), (4, 5)]\n",
    "y = [1, 1, 1, 1]\n",
    "\n",
    "model = LogisticRegression()\n",
    "model = model.fit(X, y)\n",
    "model.score(X, y)"
   ]
  },
  {
   "cell_type": "markdown",
   "metadata": {},
   "source": [
    "Hmm... that went wrong! The calls went all the way up and then returned with an error that there needs to be samples of at least 2 classes. Next try..."
   ]
  },
  {
   "cell_type": "code",
   "execution_count": 113,
   "metadata": {
    "collapsed": false
   },
   "outputs": [
    {
     "data": {
      "text/plain": [
       "0.5"
      ]
     },
     "execution_count": 113,
     "metadata": {},
     "output_type": "execute_result"
    }
   ],
   "source": [
    "X = [(1, 2), (2, 3), (1, 3), (4, 5)]\n",
    "y = [1, 0, 0, 1]\n",
    "\n",
    "model = LogisticRegression()\n",
    "model = model.fit(X, y)\n",
    "model.score(X, y)"
   ]
  },
  {
   "cell_type": "code",
   "execution_count": 114,
   "metadata": {
    "collapsed": false
   },
   "outputs": [
    {
     "data": {
      "text/plain": [
       "0.75"
      ]
     },
     "execution_count": 114,
     "metadata": {},
     "output_type": "execute_result"
    }
   ],
   "source": [
    "X = [(1, 2), (2, 3), (1, 3), (4, 5)]\n",
    "y = [1, 0, 0, 0]\n",
    "\n",
    "model = LogisticRegression()\n",
    "model = model.fit(X, y)\n",
    "model.score(X, y)"
   ]
  },
  {
   "cell_type": "markdown",
   "metadata": {},
   "source": [
    "... and what does this model predict on the input (1,2)? On the input (3,4)?"
   ]
  },
  {
   "cell_type": "code",
   "execution_count": 115,
   "metadata": {
    "collapsed": false
   },
   "outputs": [
    {
     "data": {
      "text/plain": [
       "array([0, 0])"
      ]
     },
     "execution_count": 115,
     "metadata": {},
     "output_type": "execute_result"
    }
   ],
   "source": [
    "model.predict([(1,2), (3, 4)])"
   ]
  },
  {
   "cell_type": "markdown",
   "metadata": {},
   "source": [
    "While logistic regression predicts the class label for (new) samples, we can actually get more information as to the actual probabilities it assigns to a (sample, label) combo. For that, we need to use the method predict_proba"
   ]
  },
  {
   "cell_type": "code",
   "execution_count": 116,
   "metadata": {
    "collapsed": false
   },
   "outputs": [
    {
     "data": {
      "text/plain": [
       "array([[ 0.6842427 ,  0.3157573 ],\n",
       "       [ 0.87703675,  0.12296325]])"
      ]
     },
     "execution_count": 116,
     "metadata": {},
     "output_type": "execute_result"
    }
   ],
   "source": [
    "model.predict_proba([(1,2), (3, 4)])"
   ]
  },
  {
   "cell_type": "markdown",
   "metadata": {},
   "source": [
    "### Plots\n",
    "Visualization is a significant part of any data analysis activity. Here, we will use matplotlib for our plotting needs. A short example will indicate how to go about coloring points. For regression tasks, such as linear regression, we need use only one color, while for classification problems we would need to use multiple colors. Since most of this presentation will involve binary classification, we will use the two colors __red__ and __blue__.\n",
    "\n",
    "Note that for actual logistic regression tasks, the training examples may have 1000s (or even millions) of features, and it is not feasible to visualize as we do below (there do exist techniques for dimension reduction such as t-SNE etc. in order to make visualization of the most interesting dimensions possible).\n",
    "\n",
    "First, let's color all the points in X in a single color (say, red)."
   ]
  },
  {
   "cell_type": "code",
   "execution_count": 140,
   "metadata": {
    "collapsed": false
   },
   "outputs": [
    {
     "data": {
      "image/png": "[encoded data removed]",
      "text/plain": [
       "<matplotlib.figure.Figure at 0x11dbe7750>"
      ]
     },
     "metadata": {},
     "output_type": "display_data"
    }
   ],
   "source": [
    "X1 = [i for (i,j) in X]\n",
    "Y1 = [j for (i,j) in X]\n",
    "plt.plot(X1, Y1, 'ro')\n",
    "\n",
    "# Set up axes\n",
    "x_min = np.min(X1) - 1\n",
    "x_max = np.max(X1) + 1\n",
    "y_min = np.min(Y1) - 1\n",
    "y_max = np.max(Y1) + 1\n",
    "plt.axis([x_min, x_max, y_min, y_max]) # Note the list/array of the min/max values here.\n",
    "plt.show()"
   ]
  },
  {
   "cell_type": "markdown",
   "metadata": {},
   "source": [
    "Now we proceed to color according to the category/labels of the input points."
   ]
  },
  {
   "cell_type": "code",
   "execution_count": 141,
   "metadata": {
    "collapsed": false
   },
   "outputs": [
    {
     "data": {
      "text/plain": [
       "array([1, 2, 3, 4])"
      ]
     },
     "execution_count": 141,
     "metadata": {},
     "output_type": "execute_result"
    }
   ],
   "source": [
    "a = np.array([1, 2])\n",
    "b = np.array([3,4])\n",
    "np.append(a, b)"
   ]
  },
  {
   "cell_type": "code",
   "execution_count": 156,
   "metadata": {
    "collapsed": false
   },
   "outputs": [
    {
     "data": {
      "image/png": "[encoded data removed]",
      "text/plain": [
       "<matplotlib.figure.Figure at 0x11db70450>"
      ]
     },
     "metadata": {},
     "output_type": "display_data"
    }
   ],
   "source": [
    "C0 = [X[i] for i in range(len(y)) if y[i] == 0] # C0 for color class 0.\n",
    "C0_x = [i for (i,j) in C0]\n",
    "C0_y = [j for (i,j) in C0]\n",
    "plt.plot(C0_x, C0_y, 'bo')\n",
    "\n",
    "C1 = [X[i] for i in range(len(y)) if y[i] == 1] # C1 for color class 1.\n",
    "C1_x = [i for (i,j) in C1]\n",
    "C1_y = [j for (i,j) in C1]\n",
    "plt.plot(C1_x, C1_y, 'ro')\n",
    "\n",
    "x_min = np.min(np.append(C0_x,C1_x)) - 1\n",
    "x_max = np.max(np.append(C0_x,C1_x)) + 1\n",
    "\n",
    "y_min = np.min(np.append(C0_y, C1_y)) - 1\n",
    "y_max = np.max(np.append(C0_y, C1_y)) + 1\n",
    "\n",
    "plt.axis([x_min, x_max, y_min, y_max])\n",
    "plt.show()"
   ]
  },
  {
   "cell_type": "markdown",
   "metadata": {},
   "source": [
    "## Round 1\n",
    "\n",
    "But, hey this was unfair. We trained the model on some training data, and we scored the model off (subsets of) the same dataset? That cannot be right. So, we have to split the data into training and test data."
   ]
  },
  {
   "cell_type": "markdown",
   "metadata": {},
   "source": [
    "And now, on to more realistic datasets...\n",
    "\n",
    "Most Python packages come equipped with some sample datasets. For instance the __statsmodels__ package has a whole bunch of datasets as in http://statsmodels.sourceforge.net/devel/datasets/index.html\n",
    "\n",
    "The next example is based on the following site that uses Fair's data on extramarital affairs, see\n",
    "http://statsmodels.sourceforge.net/devel/examples/notebooks/generated/discrete_choice_example.html\n",
    "\n",
    "Also see http://nbviewer.jupyter.org/gist/justmarkham/6d5c061ca5aee67c4316471f8c2ae976\n",
    "\n",
    "## Round 2"
   ]
  },
  {
   "cell_type": "code",
   "execution_count": 77,
   "metadata": {
    "collapsed": false
   },
   "outputs": [
    {
     "name": "stdout",
     "output_type": "stream",
     "text": [
      "\n",
      "Fair, Ray. 1978. \"A Theory of Extramarital Affairs,\" `Journal of Political\n",
      "    Economy`, February, 45-61.\n",
      "\n",
      "The data is available at http://fairmodel.econ.yale.edu/rayfair/pdf/2011b.htm\n",
      "\n"
     ]
    }
   ],
   "source": [
    "print(sm.datasets.fair.SOURCE)"
   ]
  },
  {
   "cell_type": "code",
   "execution_count": 78,
   "metadata": {
    "collapsed": false
   },
   "outputs": [
    {
     "name": "stdout",
     "output_type": "stream",
     "text": [
      "::\n",
      "\n",
      "    Number of observations: 6366\n",
      "    Number of variables: 9\n",
      "    Variable name definitions:\n",
      "\n",
      "        rate_marriage   : How rate marriage, 1 = very poor, 2 = poor, 3 = fair,\n",
      "                        4 = good, 5 = very good\n",
      "        age             : Age\n",
      "        yrs_married     : No. years married. Interval approximations. See\n",
      "                        original paper for detailed explanation.\n",
      "        children        : No. children\n",
      "        religious       : How relgious, 1 = not, 2 = mildly, 3 = fairly,\n",
      "                        4 = strongly\n",
      "        educ            : Level of education, 9 = grade school, 12 = high\n",
      "                        school, 14 = some college, 16 = college graduate,\n",
      "                        17 = some graduate school, 20 = advanced degree\n",
      "        occupation      : 1 = student, 2 = farming, agriculture; semi-skilled,\n",
      "                        or unskilled worker; 3 = white-colloar; 4 = teacher\n",
      "                        counselor social worker, nurse; artist, writers;\n",
      "                        technician, skilled worker, 5 = managerial,\n",
      "                        administrative, business, 6 = professional with\n",
      "                        advanced degree\n",
      "        occupation_husb : Husband's occupation. Same as occupation.\n",
      "        affairs         : measure of time spent in extramarital affairs\n",
      "\n",
      "    See the original paper for more details.\n",
      "\n"
     ]
    }
   ],
   "source": [
    "print( sm.datasets.fair.NOTE)"
   ]
  },
  {
   "cell_type": "markdown",
   "metadata": {},
   "source": [
    "Load the dataset using Pandas. Note that this is a Pandas data structure, so we have to use Pandas' methods in order to access the data (say, print the first line of the data table). "
   ]
  },
  {
   "cell_type": "code",
   "execution_count": 79,
   "metadata": {
    "collapsed": false
   },
   "outputs": [
    {
     "name": "stdout",
     "output_type": "stream",
     "text": [
      "   rate_marriage   age  yrs_married  children  religious  educ  occupation  \\\n",
      "0            3.0  32.0          9.0       3.0        3.0  17.0         2.0   \n",
      "\n",
      "   occupation_husb   affairs  \n",
      "0              5.0  0.111111  \n"
     ]
    }
   ],
   "source": [
    "dta = sm.datasets.fair.load_pandas().data \n",
    "# Try out print(dta) \n",
    "print(dta.head(1))"
   ]
  },
  {
   "cell_type": "markdown",
   "metadata": {},
   "source": [
    "__Sidenote__: Here, print dta.head(1) will not work. This is because we imported print as a function, see the line from __future__ import print_function, so print a will not work any more, since this is using print as a statement."
   ]
  },
  {
   "cell_type": "code",
   "execution_count": 80,
   "metadata": {
    "collapsed": false
   },
   "outputs": [],
   "source": [
    "#print(dta['affairs']) "
   ]
  },
  {
   "cell_type": "markdown",
   "metadata": {},
   "source": [
    "Note that the affairs column shows the total amount of time spent in affairs. Let us try to classify whether a person will cheat or not. Hence, let us replace all entries where dta['affairs'] > 0 by 1 (rather by 1.0). We can get this by the Boolean expression (dta['affairs']> 0). \n",
    "\n",
    "We will make this into a new column, and call the new column \"affair\""
   ]
  },
  {
   "cell_type": "code",
   "execution_count": 81,
   "metadata": {
    "collapsed": false
   },
   "outputs": [],
   "source": [
    "# (dta['affairs']> 0)\n",
    "dta['affair'] = (dta['affairs'] > 0).astype(float)"
   ]
  },
  {
   "cell_type": "code",
   "execution_count": 82,
   "metadata": {
    "collapsed": false
   },
   "outputs": [
    {
     "name": "stdout",
     "output_type": "stream",
     "text": [
      "   rate_marriage   age  yrs_married  children  religious  educ  occupation  \\\n",
      "0            3.0  32.0          9.0       3.0        3.0  17.0         2.0   \n",
      "1            3.0  27.0         13.0       3.0        1.0  14.0         3.0   \n",
      "\n",
      "   occupation_husb   affairs  affair  \n",
      "0              5.0  0.111111     1.0  \n",
      "1              4.0  3.230769     1.0  \n"
     ]
    }
   ],
   "source": [
    "print(dta.head(2))"
   ]
  },
  {
   "cell_type": "markdown",
   "metadata": {},
   "source": [
    "People who use R will be familiar with the next few steps. We want to \"describe\" the dataset, i.e. get the most relevant statistics to understand this data. Also the fitting of the model (logit) in this case is quite similar to that in R."
   ]
  },
  {
   "cell_type": "code",
   "execution_count": 83,
   "metadata": {
    "collapsed": false
   },
   "outputs": [
    {
     "name": "stdout",
     "output_type": "stream",
     "text": [
      "       rate_marriage          age  yrs_married     children    religious  \\\n",
      "count    6366.000000  6366.000000  6366.000000  6366.000000  6366.000000   \n",
      "mean        4.109645    29.082862     9.009425     1.396874     2.426170   \n",
      "std         0.961430     6.847882     7.280120     1.433471     0.878369   \n",
      "min         1.000000    17.500000     0.500000     0.000000     1.000000   \n",
      "25%         4.000000    22.000000     2.500000     0.000000     2.000000   \n",
      "50%         4.000000    27.000000     6.000000     1.000000     2.000000   \n",
      "75%         5.000000    32.000000    16.500000     2.000000     3.000000   \n",
      "max         5.000000    42.000000    23.000000     5.500000     4.000000   \n",
      "\n",
      "              educ   occupation  occupation_husb      affairs       affair  \n",
      "count  6366.000000  6366.000000      6366.000000  6366.000000  6366.000000  \n",
      "mean     14.209865     3.424128         3.850141     0.705374     0.322495  \n",
      "std       2.178003     0.942399         1.346435     2.203374     0.467468  \n",
      "min       9.000000     1.000000         1.000000     0.000000     0.000000  \n",
      "25%      12.000000     3.000000         3.000000     0.000000     0.000000  \n",
      "50%      14.000000     3.000000         4.000000     0.000000     0.000000  \n",
      "75%      16.000000     4.000000         5.000000     0.484848     1.000000  \n",
      "max      20.000000     6.000000         6.000000    57.599991     1.000000  \n"
     ]
    }
   ],
   "source": [
    "print(dta.describe())"
   ]
  },
  {
   "cell_type": "code",
   "execution_count": 84,
   "metadata": {
    "collapsed": false
   },
   "outputs": [
    {
     "name": "stdout",
     "output_type": "stream",
     "text": [
      "Optimization terminated successfully.\n",
      "         Current function value: 0.545314\n",
      "         Iterations 6\n"
     ]
    }
   ],
   "source": [
    "affair_mod = logit(\"affair ~ occupation + educ + occupation_husb\"\n",
    "                   \"+ rate_marriage + age + yrs_married + children\"\n",
    "                   \" + religious\", dta).fit()"
   ]
  },
  {
   "cell_type": "markdown",
   "metadata": {},
   "source": [
    "Comments about this model: \n",
    "\n",
    "Here, \"affair\" is the independent variable (also called the __target__ variable) whereas the other columns are the dependent variables. \n",
    "\n",
    "Note that occupation, occupation_husb are not really __numerical__ variables, but are __categorical__ variables. \n",
    "As another example, suppose color-of-car were an independent variable in some predictive model. How do we put a linear ordering on the color-of-car? \n",
    "\n",
    "Quiz question: how do we deal with __categorical__ variables?"
   ]
  },
  {
   "cell_type": "code",
   "execution_count": 85,
   "metadata": {
    "collapsed": false
   },
   "outputs": [
    {
     "name": "stdout",
     "output_type": "stream",
     "text": [
      "                           Logit Regression Results                           \n",
      "==============================================================================\n",
      "Dep. Variable:                 affair   No. Observations:                 6366\n",
      "Model:                          Logit   Df Residuals:                     6357\n",
      "Method:                           MLE   Df Model:                            8\n",
      "Date:                Sat, 30 Jul 2016   Pseudo R-squ.:                  0.1327\n",
      "Time:                        22:48:17   Log-Likelihood:                -3471.5\n",
      "converged:                       True   LL-Null:                       -4002.5\n",
      "                                        LLR p-value:                5.807e-224\n",
      "===================================================================================\n",
      "                      coef    std err          z      P>|z|      [95.0% Conf. Int.]\n",
      "-----------------------------------------------------------------------------------\n",
      "Intercept           3.7257      0.299     12.470      0.000         3.140     4.311\n",
      "occupation          0.1602      0.034      4.717      0.000         0.094     0.227\n",
      "educ               -0.0392      0.015     -2.533      0.011        -0.070    -0.009\n",
      "occupation_husb     0.0124      0.023      0.541      0.589        -0.033     0.057\n",
      "rate_marriage      -0.7161      0.031    -22.784      0.000        -0.778    -0.655\n",
      "age                -0.0605      0.010     -5.885      0.000        -0.081    -0.040\n",
      "yrs_married         0.1100      0.011     10.054      0.000         0.089     0.131\n",
      "children           -0.0042      0.032     -0.134      0.893        -0.066     0.058\n",
      "religious          -0.3752      0.035    -10.792      0.000        -0.443    -0.307\n",
      "===================================================================================\n"
     ]
    }
   ],
   "source": [
    "print(affair_mod.summary())"
   ]
  },
  {
   "cell_type": "markdown",
   "metadata": {},
   "source": [
    "This is a good place to discuss the various parameter values in the results. MLE refers to Maximum Likelihood Estimate that we will cover in detail in our indepth discussion of Logistic Regression later.\n",
    "\n",
    "To discuss: \n",
    "- p-values, \n",
    "- Log-Likelihood, \n",
    "- Pseudo R-square.\n",
    "\n",
    "For each, show \n",
    "- how to compute\n",
    "- whether the values above match up."
   ]
  },
  {
   "cell_type": "code",
   "execution_count": 86,
   "metadata": {
    "collapsed": false
   },
   "outputs": [
    {
     "data": {
      "text/plain": [
       "array([[ 3882.,   431.],\n",
       "       [ 1326.,   727.]])"
      ]
     },
     "execution_count": 86,
     "metadata": {},
     "output_type": "execute_result"
    }
   ],
   "source": [
    "affair_mod.pred_table()"
   ]
  },
  {
   "cell_type": "markdown",
   "metadata": {},
   "source": [
    "The pred_table is also called the __confusion matrix__. Note that the sum of all the entries in this matrix equals the total number of observations (in this example, 6366). \n",
    "\n",
    "What do the terms p-value, log-likelihood etc. mean? Details at http://www.ats.ucla.edu/stat/stata/output/stata_logistic.htm\n"
   ]
  },
  {
   "cell_type": "code",
   "execution_count": 87,
   "metadata": {
    "collapsed": false
   },
   "outputs": [
    {
     "name": "stdout",
     "output_type": "stream",
     "text": [
      "        Logit Marginal Effects       \n",
      "=====================================\n",
      "Dep. Variable:                 affair\n",
      "Method:                          dydx\n",
      "At:                           overall\n",
      "===================================================================================\n",
      "                     dy/dx    std err          z      P>|z|      [95.0% Conf. Int.]\n",
      "-----------------------------------------------------------------------------------\n",
      "occupation          0.0293      0.006      4.744      0.000         0.017     0.041\n",
      "educ               -0.0072      0.003     -2.538      0.011        -0.013    -0.002\n",
      "occupation_husb     0.0023      0.004      0.541      0.589        -0.006     0.010\n",
      "rate_marriage      -0.1308      0.005    -26.891      0.000        -0.140    -0.121\n",
      "age                -0.0110      0.002     -5.937      0.000        -0.015    -0.007\n",
      "yrs_married         0.0201      0.002     10.327      0.000         0.016     0.024\n",
      "children           -0.0008      0.006     -0.134      0.893        -0.012     0.011\n",
      "religious          -0.0685      0.006    -11.119      0.000        -0.081    -0.056\n",
      "===================================================================================\n"
     ]
    }
   ],
   "source": [
    "mfx = affair_mod.get_margeff()\n",
    "print(mfx.summary())"
   ]
  },
  {
   "cell_type": "code",
   "execution_count": 88,
   "metadata": {
    "collapsed": false
   },
   "outputs": [
    {
     "name": "stdout",
     "output_type": "stream",
     "text": [
      "rate_marriage       4.000000\n",
      "age                37.000000\n",
      "yrs_married        23.000000\n",
      "children            3.000000\n",
      "religious           3.000000\n",
      "educ               12.000000\n",
      "occupation          3.000000\n",
      "occupation_husb     4.000000\n",
      "affairs             0.521739\n",
      "affair              1.000000\n",
      "Name: 1000, dtype: float64\n"
     ]
    }
   ],
   "source": [
    "# Test on the 1000th respondent.\n",
    "\n",
    "respondent1000 = dta.ix[1000]\n",
    "print(respondent1000)"
   ]
  },
  {
   "cell_type": "code",
   "execution_count": 89,
   "metadata": {
    "collapsed": false
   },
   "outputs": [
    {
     "name": "stdout",
     "output_type": "stream",
     "text": [
      "{0: 1, 1: 3.0, 2: 12.0, 3: 4.0, 4: 4.0, 5: 37.0, 6: 23.0, 7: 3.0, 8: 3.0}\n"
     ]
    }
   ],
   "source": [
    "resp = dict(zip(range(1,9), respondent1000[[\"occupation\", \"educ\",\n",
    "                                            \"occupation_husb\", \"rate_marriage\",\n",
    "                                            \"age\", \"yrs_married\", \"children\",\n",
    "                                            \"religious\"]].tolist()))\n",
    "resp.update({0 : 1})\n",
    "print(resp)"
   ]
  },
  {
   "cell_type": "markdown",
   "metadata": {},
   "source": [
    "Here, we added a 0th dimension for the bias, with weight 1. "
   ]
  },
  {
   "cell_type": "code",
   "execution_count": 90,
   "metadata": {
    "collapsed": false
   },
   "outputs": [
    {
     "data": {
      "text/plain": [
       "array([ 0.51878156])"
      ]
     },
     "execution_count": 90,
     "metadata": {},
     "output_type": "execute_result"
    }
   ],
   "source": [
    "affair_mod.predict(respondent1000)"
   ]
  },
  {
   "cell_type": "code",
   "execution_count": 91,
   "metadata": {
    "collapsed": false
   },
   "outputs": [
    {
     "data": {
      "text/plain": [
       "0.075161592850559344"
      ]
     },
     "execution_count": 91,
     "metadata": {},
     "output_type": "execute_result"
    }
   ],
   "source": [
    "affair_mod.fittedvalues[1000]"
   ]
  },
  {
   "cell_type": "code",
   "execution_count": 92,
   "metadata": {
    "collapsed": false
   },
   "outputs": [
    {
     "data": {
      "text/plain": [
       "0.51878155721214614"
      ]
     },
     "execution_count": 92,
     "metadata": {},
     "output_type": "execute_result"
    }
   ],
   "source": [
    "affair_mod.model.cdf(affair_mod.fittedvalues[1000])"
   ]
  },
  {
   "cell_type": "markdown",
   "metadata": {},
   "source": [
    "## Round 3"
   ]
  },
  {
   "cell_type": "code",
   "execution_count": 93,
   "metadata": {
    "collapsed": false
   },
   "outputs": [
    {
     "data": {
      "image/png": "[encoded data removed]",
      "text/plain": [
       "<matplotlib.figure.Figure at 0x11de16ed0>"
      ]
     },
     "metadata": {},
     "output_type": "display_data"
    }
   ],
   "source": [
    "fig = plt.figure(figsize=(12,8))\n",
    "ax = fig.add_subplot(111)\n",
    "support = np.linspace(-6, 6, 1000)\n",
    "ax.plot(support, stats.logistic.cdf(support), 'r-', label='Logistic')\n",
    "ax.plot(support, stats.norm.cdf(support), label='Probit')\n",
    "ax.legend();"
   ]
  },
  {
   "cell_type": "code",
   "execution_count": null,
   "metadata": {
    "collapsed": true
   },
   "outputs": [],
   "source": []
  },
  {
   "cell_type": "code",
   "execution_count": null,
   "metadata": {
    "collapsed": true
   },
   "outputs": [],
   "source": []
  },
  {
   "cell_type": "code",
   "execution_count": null,
   "metadata": {
    "collapsed": true
   },
   "outputs": [],
   "source": []
  }
 ],
 "metadata": {
  "kernelspec": {
   "display_name": "Python 2",
   "language": "python",
   "name": "python2"
  },
  "language_info": {
   "codemirror_mode": {
    "name": "ipython",
    "version": 2
   },
   "file_extension": ".py",
   "mimetype": "text/x-python",
   "name": "python",
   "nbconvert_exporter": "python",
   "pygments_lexer": "ipython2",
   "version": "2.7.12"
  }
 },
 "nbformat": 4,
 "nbformat_minor": 0
}
